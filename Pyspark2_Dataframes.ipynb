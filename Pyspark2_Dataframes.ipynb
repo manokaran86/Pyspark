{
 "cells": [
  {
   "cell_type": "markdown",
   "metadata": {},
   "source": [
    "#### In this session we will see the below contents\n",
    "###### 1.Pyspark Dataframe\n",
    "###### 2.Reading the Dataset\n",
    "###### 3.Checking the Datatypes of the Columns(Schema)\n",
    "###### 4.Selecting Columns and Indexing\n",
    "###### 5.Check Describe Options similar to Pandas\n",
    "###### 6.Adding Columns\n",
    "###### 7.Dropping Columns"
   ]
  },
  {
   "cell_type": "code",
   "execution_count": 4,
   "metadata": {},
   "outputs": [
    {
     "name": "stdout",
     "output_type": "stream",
     "text": [
      "/home/labsuser/Pyspark\n"
     ]
    },
    {
     "data": {
      "text/plain": [
       "['Session 1_Pyspark_Intro_.ipynb',\n",
       " 'Session 2_Pyspark Dataframes_Part1.ipynb',\n",
       " 'SalaryGender.csv',\n",
       " 'Untitled.ipynb',\n",
       " '.ipynb_checkpoints']"
      ]
     },
     "execution_count": 4,
     "metadata": {},
     "output_type": "execute_result"
    }
   ],
   "source": [
    "import os\n",
    "print(os.getcwd())\n",
    "files = os.listdir(os.curdir)\n",
    "files"
   ]
  },
  {
   "cell_type": "code",
   "execution_count": 5,
   "metadata": {},
   "outputs": [],
   "source": [
    "from pyspark.sql import SparkSession"
   ]
  },
  {
   "cell_type": "code",
   "execution_count": 6,
   "metadata": {},
   "outputs": [
    {
     "data": {
      "text/html": [
       "\n",
       "            <div>\n",
       "                <p><b>SparkSession - in-memory</b></p>\n",
       "                \n",
       "        <div>\n",
       "            <p><b>SparkContext</b></p>\n",
       "\n",
       "            <p><a href=\"http://jupyter:4041\">Spark UI</a></p>\n",
       "\n",
       "            <dl>\n",
       "              <dt>Version</dt>\n",
       "                <dd><code>v2.4.5</code></dd>\n",
       "              <dt>Master</dt>\n",
       "                <dd><code>local[*]</code></dd>\n",
       "              <dt>AppName</dt>\n",
       "                <dd><code>Dataframe</code></dd>\n",
       "            </dl>\n",
       "        </div>\n",
       "        \n",
       "            </div>\n",
       "        "
      ],
      "text/plain": [
       "<pyspark.sql.session.SparkSession at 0x7fa4acea58d0>"
      ]
     },
     "execution_count": 6,
     "metadata": {},
     "output_type": "execute_result"
    }
   ],
   "source": [
    "spark_sess = SparkSession.builder.appName('Dataframe').getOrCreate()\n",
    "spark_sess"
   ]
  },
  {
   "cell_type": "code",
   "execution_count": 14,
   "metadata": {},
   "outputs": [
    {
     "name": "stdout",
     "output_type": "stream",
     "text": [
      "+------+------+---+---+\n",
      "|Salary|Gender|Age|PhD|\n",
      "+------+------+---+---+\n",
      "|   140|     1| 47|  1|\n",
      "|    30|     0| 65|  1|\n",
      "|  35.1|     0| 56|  0|\n",
      "|    30|     1| 23|  0|\n",
      "|    80|     0| 53|  1|\n",
      "+------+------+---+---+\n",
      "only showing top 5 rows\n",
      "\n"
     ]
    }
   ],
   "source": [
    "# Multiple ways of reading the dataset\n",
    "data_salary = spark_sess.read.option('header','true').csv('SalaryGender.csv')\n",
    "data_salary.show(5)"
   ]
  },
  {
   "cell_type": "code",
   "execution_count": 15,
   "metadata": {},
   "outputs": [
    {
     "name": "stdout",
     "output_type": "stream",
     "text": [
      "root\n",
      " |-- Salary: string (nullable = true)\n",
      " |-- Gender: string (nullable = true)\n",
      " |-- Age: string (nullable = true)\n",
      " |-- PhD: string (nullable = true)\n",
      "\n"
     ]
    }
   ],
   "source": [
    "# Check the schema\n",
    "data_salary.printSchema()  #we didnt pass one more parameter to read the data as it is, i.e is the reason it considering all the values as String)"
   ]
  },
  {
   "cell_type": "code",
   "execution_count": 17,
   "metadata": {},
   "outputs": [
    {
     "name": "stdout",
     "output_type": "stream",
     "text": [
      "+------+------+---+---+\n",
      "|Salary|Gender|Age|PhD|\n",
      "+------+------+---+---+\n",
      "| 140.0|     1| 47|  1|\n",
      "|  30.0|     0| 65|  1|\n",
      "|  35.1|     0| 56|  0|\n",
      "|  30.0|     1| 23|  0|\n",
      "|  80.0|     0| 53|  1|\n",
      "+------+------+---+---+\n",
      "only showing top 5 rows\n",
      "\n"
     ]
    }
   ],
   "source": [
    "data_salary_1 = spark_sess.read.option('header','true').csv('SalaryGender.csv',inferSchema=True)\n",
    "data_salary_1.show(5)"
   ]
  },
  {
   "cell_type": "code",
   "execution_count": 18,
   "metadata": {},
   "outputs": [
    {
     "name": "stdout",
     "output_type": "stream",
     "text": [
      "root\n",
      " |-- Salary: double (nullable = true)\n",
      " |-- Gender: integer (nullable = true)\n",
      " |-- Age: integer (nullable = true)\n",
      " |-- PhD: integer (nullable = true)\n",
      "\n"
     ]
    }
   ],
   "source": [
    "data_salary_1.printSchema()"
   ]
  },
  {
   "cell_type": "code",
   "execution_count": 19,
   "metadata": {},
   "outputs": [
    {
     "name": "stdout",
     "output_type": "stream",
     "text": [
      "+------+------+---+---+\n",
      "|Salary|Gender|Age|PhD|\n",
      "+------+------+---+---+\n",
      "| 140.0|     1| 47|  1|\n",
      "|  30.0|     0| 65|  1|\n",
      "|  35.1|     0| 56|  0|\n",
      "|  30.0|     1| 23|  0|\n",
      "|  80.0|     0| 53|  1|\n",
      "+------+------+---+---+\n",
      "only showing top 5 rows\n",
      "\n"
     ]
    }
   ],
   "source": [
    "data_salary_2 = spark_sess.read.csv('SalaryGender.csv',header=True,inferSchema=True)\n",
    "data_salary_2.show(5)"
   ]
  },
  {
   "cell_type": "code",
   "execution_count": 20,
   "metadata": {},
   "outputs": [
    {
     "name": "stdout",
     "output_type": "stream",
     "text": [
      "root\n",
      " |-- Salary: double (nullable = true)\n",
      " |-- Gender: integer (nullable = true)\n",
      " |-- Age: integer (nullable = true)\n",
      " |-- PhD: integer (nullable = true)\n",
      "\n"
     ]
    }
   ],
   "source": [
    "data_salary_2.printSchema()  # To check the datatypes"
   ]
  },
  {
   "cell_type": "code",
   "execution_count": 22,
   "metadata": {},
   "outputs": [
    {
     "data": {
      "text/plain": [
       "pyspark.sql.dataframe.DataFrame"
      ]
     },
     "execution_count": 22,
     "metadata": {},
     "output_type": "execute_result"
    }
   ],
   "source": [
    "type(data_salary_2)"
   ]
  },
  {
   "cell_type": "code",
   "execution_count": 23,
   "metadata": {},
   "outputs": [
    {
     "data": {
      "text/plain": [
       "['Salary', 'Gender', 'Age', 'PhD']"
      ]
     },
     "execution_count": 23,
     "metadata": {},
     "output_type": "execute_result"
    }
   ],
   "source": [
    "data_salary_2.columns"
   ]
  },
  {
   "cell_type": "markdown",
   "metadata": {},
   "source": [
    "#### Selecting only the particular column from the above Dataframe"
   ]
  },
  {
   "cell_type": "code",
   "execution_count": 26,
   "metadata": {},
   "outputs": [
    {
     "name": "stdout",
     "output_type": "stream",
     "text": [
      "+------+\n",
      "|Salary|\n",
      "+------+\n",
      "| 140.0|\n",
      "|  30.0|\n",
      "|  35.1|\n",
      "|  30.0|\n",
      "|  80.0|\n",
      "+------+\n",
      "only showing top 5 rows\n",
      "\n"
     ]
    }
   ],
   "source": [
    "data_salary_2.select('Salary').show(5)"
   ]
  },
  {
   "cell_type": "code",
   "execution_count": 27,
   "metadata": {},
   "outputs": [
    {
     "name": "stdout",
     "output_type": "stream",
     "text": [
      "+------+---+\n",
      "|Salary|PhD|\n",
      "+------+---+\n",
      "| 140.0|  1|\n",
      "|  30.0|  1|\n",
      "|  35.1|  0|\n",
      "|  30.0|  0|\n",
      "|  80.0|  1|\n",
      "+------+---+\n",
      "only showing top 5 rows\n",
      "\n"
     ]
    }
   ],
   "source": [
    "data_salary_2.select('Salary','PhD').show(5)"
   ]
  },
  {
   "cell_type": "code",
   "execution_count": 28,
   "metadata": {},
   "outputs": [
    {
     "data": {
      "text/plain": [
       "[('Salary', 'double'), ('Gender', 'int'), ('Age', 'int'), ('PhD', 'int')]"
      ]
     },
     "execution_count": 28,
     "metadata": {},
     "output_type": "execute_result"
    }
   ],
   "source": [
    "data_salary_2.dtypes"
   ]
  },
  {
   "cell_type": "code",
   "execution_count": 29,
   "metadata": {},
   "outputs": [
    {
     "data": {
      "text/plain": [
       "DataFrame[summary: string, Salary: string, Gender: string, Age: string, PhD: string]"
      ]
     },
     "execution_count": 29,
     "metadata": {},
     "output_type": "execute_result"
    }
   ],
   "source": [
    "data_salary_2.describe()"
   ]
  },
  {
   "cell_type": "code",
   "execution_count": 30,
   "metadata": {},
   "outputs": [
    {
     "name": "stdout",
     "output_type": "stream",
     "text": [
      "+-------+-----------------+------------------+------------------+------------------+\n",
      "|summary|           Salary|            Gender|               Age|               PhD|\n",
      "+-------+-----------------+------------------+------------------+------------------+\n",
      "|  count|              100|               100|               100|               100|\n",
      "|   mean|52.52450000000001|               0.5|             46.88|              0.39|\n",
      "| stddev|42.22093315782079|0.5025189076296062|15.271469404670192|0.4902071300001972|\n",
      "|    min|             0.25|                 0|                20|                 0|\n",
      "|    max|            190.0|                 1|                77|                 1|\n",
      "+-------+-----------------+------------------+------------------+------------------+\n",
      "\n"
     ]
    }
   ],
   "source": [
    "data_salary_2.describe().show()"
   ]
  },
  {
   "cell_type": "markdown",
   "metadata": {},
   "source": [
    "##### Adding a new column to the Dataframe"
   ]
  },
  {
   "cell_type": "code",
   "execution_count": 33,
   "metadata": {},
   "outputs": [
    {
     "name": "stdout",
     "output_type": "stream",
     "text": [
      "+------+------+---+---+-------------+\n",
      "|Salary|Gender|Age|PhD|Age_Aft_2year|\n",
      "+------+------+---+---+-------------+\n",
      "| 140.0|     1| 47|  1|           49|\n",
      "|  30.0|     0| 65|  1|           67|\n",
      "|  35.1|     0| 56|  0|           58|\n",
      "|  30.0|     1| 23|  0|           25|\n",
      "|  80.0|     0| 53|  1|           55|\n",
      "+------+------+---+---+-------------+\n",
      "only showing top 5 rows\n",
      "\n"
     ]
    }
   ],
   "source": [
    "data_salary_3 = data_salary_2.withColumn('Age_Aft_2year',data_salary_2['Age']+2)\n",
    "data_salary_3.show(5)"
   ]
  },
  {
   "cell_type": "markdown",
   "metadata": {},
   "source": [
    "#### drop the columnes"
   ]
  },
  {
   "cell_type": "code",
   "execution_count": 35,
   "metadata": {},
   "outputs": [
    {
     "name": "stdout",
     "output_type": "stream",
     "text": [
      "+------+------+---+---+\n",
      "|Salary|Gender|Age|PhD|\n",
      "+------+------+---+---+\n",
      "| 140.0|     1| 47|  1|\n",
      "|  30.0|     0| 65|  1|\n",
      "|  35.1|     0| 56|  0|\n",
      "|  30.0|     1| 23|  0|\n",
      "|  80.0|     0| 53|  1|\n",
      "+------+------+---+---+\n",
      "only showing top 5 rows\n",
      "\n"
     ]
    }
   ],
   "source": [
    "data_salary_4 = data_salary_3.drop('Age_Aft_2year')\n",
    "data_salary_4.show(5)"
   ]
  },
  {
   "cell_type": "markdown",
   "metadata": {},
   "source": [
    "#### Rename the Columns"
   ]
  },
  {
   "cell_type": "code",
   "execution_count": 36,
   "metadata": {},
   "outputs": [
    {
     "name": "stdout",
     "output_type": "stream",
     "text": [
      "+-------------+------+---+---+\n",
      "|Salary_revise|Gender|Age|PhD|\n",
      "+-------------+------+---+---+\n",
      "|        140.0|     1| 47|  1|\n",
      "|         30.0|     0| 65|  1|\n",
      "|         35.1|     0| 56|  0|\n",
      "|         30.0|     1| 23|  0|\n",
      "|         80.0|     0| 53|  1|\n",
      "+-------------+------+---+---+\n",
      "only showing top 5 rows\n",
      "\n"
     ]
    }
   ],
   "source": [
    "data_salary_5 = data_salary_4.withColumnRenamed('Salary','Salary_revise')\n",
    "data_salary_5.show(5)"
   ]
  },
  {
   "cell_type": "code",
   "execution_count": null,
   "metadata": {},
   "outputs": [],
   "source": []
  }
 ],
 "metadata": {
  "kernelspec": {
   "display_name": "Python 3",
   "language": "python",
   "name": "python3"
  },
  "language_info": {
   "codemirror_mode": {
    "name": "ipython",
    "version": 3
   },
   "file_extension": ".py",
   "mimetype": "text/x-python",
   "name": "python",
   "nbconvert_exporter": "python",
   "pygments_lexer": "ipython3",
   "version": "3.7.6"
  }
 },
 "nbformat": 4,
 "nbformat_minor": 4
}
