{
 "cells": [
  {
   "cell_type": "markdown",
   "metadata": {},
   "source": [
    "### Pyspark handling the missing values\n",
    "\n",
    "- Dropping columns\n",
    "- Dropping Rows\n",
    "- Various Parameter in Dropping functionalities\n",
    "- Handling missing values by mean"
   ]
  },
  {
   "cell_type": "code",
   "execution_count": 34,
   "metadata": {},
   "outputs": [],
   "source": [
    "from pyspark.sql import SparkSession\n",
    "spark_sess = SparkSession.builder.appName('Practice_sess').getOrCreate()"
   ]
  },
  {
   "cell_type": "code",
   "execution_count": 38,
   "metadata": {},
   "outputs": [
    {
     "name": "stdout",
     "output_type": "stream",
     "text": [
      "+------+------+---+---+\n",
      "|Salary|Gender|Age|PhD|\n",
      "+------+------+---+---+\n",
      "| 140.0|     1| 47|  1|\n",
      "|  30.0|     0| 65|  1|\n",
      "|  35.1|     0| 56|  0|\n",
      "|  30.0|     1| 23|  0|\n",
      "|  80.0|     0| 53|  1|\n",
      "+------+------+---+---+\n",
      "only showing top 5 rows\n",
      "\n"
     ]
    }
   ],
   "source": [
    "df_salary = spark_sess.read.csv('SalaryGender.csv',header=True,inferSchema=True)\n",
    "df_salary.show(5)"
   ]
  },
  {
   "cell_type": "code",
   "execution_count": 39,
   "metadata": {},
   "outputs": [
    {
     "name": "stdout",
     "output_type": "stream",
     "text": [
      "+-------+-----------------+------------------+------------------+-------------------+\n",
      "|summary|           Salary|            Gender|               Age|                PhD|\n",
      "+-------+-----------------+------------------+------------------+-------------------+\n",
      "|  count|              103|               103|               102|                101|\n",
      "|   mean|53.82961165048545|0.5048543689320388|47.068627450980394|0.39603960396039606|\n",
      "| stddev|43.09802235857528|0.5024213216674024| 15.19201184307171| 0.4915121142106688|\n",
      "|    min|             0.25|                 0|                20|                  0|\n",
      "|    max|            190.0|                 1|                77|                  1|\n",
      "+-------+-----------------+------------------+------------------+-------------------+\n",
      "\n"
     ]
    }
   ],
   "source": [
    "df_salary.describe().show()"
   ]
  },
  {
   "cell_type": "markdown",
   "metadata": {},
   "source": [
    "#### Filtering the Null values in the Dataframe"
   ]
  },
  {
   "cell_type": "code",
   "execution_count": 41,
   "metadata": {},
   "outputs": [
    {
     "name": "stdout",
     "output_type": "stream",
     "text": [
      "+------+------+----+---+\n",
      "|Salary|Gender| Age|PhD|\n",
      "+------+------+----+---+\n",
      "|  null|     0|null|  1|\n",
      "+------+------+----+---+\n",
      "\n"
     ]
    }
   ],
   "source": [
    "df_salary.filter(df_salary.Salary.isNull()).show() ## Filtering based upon one column"
   ]
  },
  {
   "cell_type": "code",
   "execution_count": 44,
   "metadata": {},
   "outputs": [
    {
     "name": "stdout",
     "output_type": "stream",
     "text": [
      "+------+------+----+----+\n",
      "|Salary|Gender| Age| PhD|\n",
      "+------+------+----+----+\n",
      "| 165.0|  null|  61|null|\n",
      "|  null|     0|null|   1|\n",
      "+------+------+----+----+\n",
      "\n"
     ]
    }
   ],
   "source": [
    "df_salary.filter(df_salary.Salary.isNull() | df_salary.Gender.isNull()).show()"
   ]
  },
  {
   "cell_type": "code",
   "execution_count": 47,
   "metadata": {},
   "outputs": [
    {
     "name": "stdout",
     "output_type": "stream",
     "text": [
      "+------+------+----+----+\n",
      "|Salary|Gender| Age| PhD|\n",
      "+------+------+----+----+\n",
      "| 165.0|  null|  61|null|\n",
      "|  null|     0|null|   1|\n",
      "+------+------+----+----+\n",
      "\n"
     ]
    }
   ],
   "source": [
    "df_salary.filter(\"Salary is Null or gender is Null\").show()"
   ]
  },
  {
   "cell_type": "markdown",
   "metadata": {},
   "source": [
    "### PySpark SQL"
   ]
  },
  {
   "cell_type": "code",
   "execution_count": 53,
   "metadata": {},
   "outputs": [
    {
     "name": "stdout",
     "output_type": "stream",
     "text": [
      "+------+------+----+----+\n",
      "|Salary|Gender| Age| PhD|\n",
      "+------+------+----+----+\n",
      "| 165.0|  null|  61|null|\n",
      "|  null|     0|null|   1|\n",
      "+------+------+----+----+\n",
      "\n"
     ]
    }
   ],
   "source": [
    "df_salary.createOrReplaceTempView(\"DATA\")\n",
    "spark_sess.sql(\"SELECT * FROM DATA where salary is null or gender IS NULL\").show()"
   ]
  },
  {
   "cell_type": "code",
   "execution_count": 58,
   "metadata": {},
   "outputs": [
    {
     "name": "stdout",
     "output_type": "stream",
     "text": [
      "+------+------+---+---+\n",
      "|Salary|Gender|Age|PhD|\n",
      "+------+------+---+---+\n",
      "| 140.0|     1| 47|  1|\n",
      "|  30.0|     0| 65|  1|\n",
      "|  35.1|     0| 56|  0|\n",
      "|  30.0|     1| 23|  0|\n",
      "|  80.0|     0| 53|  1|\n",
      "|  30.0|     0| 27|  0|\n",
      "|  60.0|     1| 53|  0|\n",
      "|  31.1|     0| 30|  0|\n",
      "| 125.0|     1| 44|  1|\n",
      "|  51.0|     1| 63|  1|\n",
      "|   3.0|     1| 22|  0|\n",
      "|  46.0|     1| 59|  0|\n",
      "| 150.0|     1| 60|  1|\n",
      "|   3.0|     1| 28|  0|\n",
      "| 130.0|     1| 65|  0|\n",
      "|  15.0|     0| 25|  0|\n",
      "| 130.0|     1| 65|  0|\n",
      "|  84.0|     0| 47|  1|\n",
      "| 190.0|     1| 66|  1|\n",
      "|  74.0|     1| 45|  1|\n",
      "+------+------+---+---+\n",
      "only showing top 20 rows\n",
      "\n"
     ]
    }
   ],
   "source": [
    "## Dropping the null values in the dataframe\n",
    "\n",
    "df_salary_1 = df_salary.na.drop(how=\"all\")   ## how=all --> It will the drop the records only if the column values are NULL\n",
    "df_salary_1.show()"
   ]
  },
  {
   "cell_type": "code",
   "execution_count": 59,
   "metadata": {},
   "outputs": [
    {
     "name": "stdout",
     "output_type": "stream",
     "text": [
      "+------+------+----+----+\n",
      "|Salary|Gender| Age| PhD|\n",
      "+------+------+----+----+\n",
      "| 165.0|  null|  61|null|\n",
      "|  null|     0|null|   1|\n",
      "+------+------+----+----+\n",
      "\n"
     ]
    }
   ],
   "source": [
    "df_salary_1.filter(\"Salary is Null or gender is Null\").show()"
   ]
  },
  {
   "cell_type": "code",
   "execution_count": 60,
   "metadata": {},
   "outputs": [
    {
     "name": "stdout",
     "output_type": "stream",
     "text": [
      "+------+------+---+---+\n",
      "|Salary|Gender|Age|PhD|\n",
      "+------+------+---+---+\n",
      "| 140.0|     1| 47|  1|\n",
      "|  30.0|     0| 65|  1|\n",
      "|  35.1|     0| 56|  0|\n",
      "|  30.0|     1| 23|  0|\n",
      "|  80.0|     0| 53|  1|\n",
      "|  30.0|     0| 27|  0|\n",
      "|  60.0|     1| 53|  0|\n",
      "|  31.1|     0| 30|  0|\n",
      "| 125.0|     1| 44|  1|\n",
      "|  51.0|     1| 63|  1|\n",
      "|   3.0|     1| 22|  0|\n",
      "|  46.0|     1| 59|  0|\n",
      "| 150.0|     1| 60|  1|\n",
      "|   3.0|     1| 28|  0|\n",
      "| 130.0|     1| 65|  0|\n",
      "|  15.0|     0| 25|  0|\n",
      "| 130.0|     1| 65|  0|\n",
      "|  84.0|     0| 47|  1|\n",
      "| 190.0|     1| 66|  1|\n",
      "|  74.0|     1| 45|  1|\n",
      "+------+------+---+---+\n",
      "only showing top 20 rows\n",
      "\n"
     ]
    }
   ],
   "source": [
    "df_salary_2 = df_salary.na.drop(how=\"any\")   ## how=any --> It will the drop the records any one column values are NULL\n",
    "df_salary_2.show()"
   ]
  },
  {
   "cell_type": "code",
   "execution_count": 61,
   "metadata": {},
   "outputs": [
    {
     "name": "stdout",
     "output_type": "stream",
     "text": [
      "+------+------+---+---+\n",
      "|Salary|Gender|Age|PhD|\n",
      "+------+------+---+---+\n",
      "+------+------+---+---+\n",
      "\n"
     ]
    }
   ],
   "source": [
    "df_salary_2.filter(\"Salary is Null or gender is Null\").show()"
   ]
  },
  {
   "cell_type": "markdown",
   "metadata": {},
   "source": [
    "#### Threshold --> Condition for NULL values , if thresh=2 --> it will drop the records if the the record contains more 2 NULL colums"
   ]
  },
  {
   "cell_type": "code",
   "execution_count": 65,
   "metadata": {},
   "outputs": [
    {
     "name": "stdout",
     "output_type": "stream",
     "text": [
      "+------+------+----+----+\n",
      "|Salary|Gender| Age| PhD|\n",
      "+------+------+----+----+\n",
      "|  52.0|     1|null|null|\n",
      "| 165.0|  null|  61|null|\n",
      "|  null|     0|null|   1|\n",
      "|  75.0|     1|  52|null|\n",
      "+------+------+----+----+\n",
      "\n"
     ]
    }
   ],
   "source": [
    "df_salary.createOrReplaceTempView(\"DATA\")\n",
    "spark_sess.sql(\"SELECT * FROM DATA where salary is null or gender IS NULL or age is null or phd is null\").show()"
   ]
  },
  {
   "cell_type": "code",
   "execution_count": 66,
   "metadata": {},
   "outputs": [
    {
     "name": "stdout",
     "output_type": "stream",
     "text": [
      "+------+------+----+----+\n",
      "|Salary|Gender| Age| PhD|\n",
      "+------+------+----+----+\n",
      "| 165.0|  null|  61|null|\n",
      "|  null|     0|null|   1|\n",
      "+------+------+----+----+\n",
      "\n"
     ]
    }
   ],
   "source": [
    "df_salary_2 = df_salary.na.drop(how=\"any\",thresh=2)  \n",
    "df_salary_2.filter(\"Salary is Null or gender is Null\").show()"
   ]
  },
  {
   "cell_type": "code",
   "execution_count": 68,
   "metadata": {},
   "outputs": [
    {
     "name": "stdout",
     "output_type": "stream",
     "text": [
      "+------+------+----+---+\n",
      "|Salary|Gender| Age|PhD|\n",
      "+------+------+----+---+\n",
      "|  null|     0|null|  1|\n",
      "+------+------+----+---+\n",
      "\n"
     ]
    }
   ],
   "source": [
    "#### Subset --> dropping the records based upon the column holds NULL values\n",
    "df_salary_2 = df_salary.na.drop(how=\"any\",subset=\"PhD\")  \n",
    "df_salary_2.filter(\"Salary is Null or gender is Null\").show()"
   ]
  },
  {
   "cell_type": "markdown",
   "metadata": {},
   "source": [
    "### Filling the missing values"
   ]
  },
  {
   "cell_type": "code",
   "execution_count": 69,
   "metadata": {},
   "outputs": [
    {
     "name": "stdout",
     "output_type": "stream",
     "text": [
      "+------+------+---+---+\n",
      "|Salary|Gender|Age|PhD|\n",
      "+------+------+---+---+\n",
      "| 140.0|     1| 47|  1|\n",
      "|  30.0|     0| 65|  1|\n",
      "|  35.1|     0| 56|  0|\n",
      "|  30.0|     1| 23|  0|\n",
      "|  80.0|     0| 53|  1|\n",
      "|  30.0|     0| 27|  0|\n",
      "|  60.0|     1| 53|  0|\n",
      "|  31.1|     0| 30|  0|\n",
      "| 125.0|     1| 44|  1|\n",
      "|  51.0|     1| 63|  1|\n",
      "|   3.0|     1| 22|  0|\n",
      "|  46.0|     1| 59|  0|\n",
      "| 150.0|     1| 60|  1|\n",
      "|   3.0|     1| 28|  0|\n",
      "| 130.0|     1| 65|  0|\n",
      "|  15.0|     0| 25|  0|\n",
      "| 130.0|     1| 65|  0|\n",
      "|  84.0|     0| 47|  1|\n",
      "| 190.0|     1| 66|  1|\n",
      "|  74.0|     1| 45|  1|\n",
      "+------+------+---+---+\n",
      "only showing top 20 rows\n",
      "\n"
     ]
    }
   ],
   "source": [
    "df_salary_2 = df_salary.na.fill('Missing Values')\n",
    "df_salary_2.show()"
   ]
  },
  {
   "cell_type": "code",
   "execution_count": 77,
   "metadata": {},
   "outputs": [],
   "source": [
    "# Impute the missing value using Mean\n",
    "\n",
    "df_salary_3 = df_salary\n",
    "\n",
    "from pyspark.ml.feature import Imputer\n",
    "\n",
    "imputer = Imputer(\n",
    "    inputCols = ['Salary','Age'],\n",
    "    outputCols = [\"{}_imputed\".format(c) for c in ['Salary','Age']]).setStrategy(\"mean\")"
   ]
  },
  {
   "cell_type": "code",
   "execution_count": 80,
   "metadata": {},
   "outputs": [],
   "source": [
    "## Add umputation cols to df\n",
    "\n",
    "imputer.fit(df_salary_3).transform(df_salary_3).show()"
   ]
  },
  {
   "cell_type": "code",
   "execution_count": null,
   "metadata": {},
   "outputs": [],
   "source": []
  }
 ],
 "metadata": {
  "kernelspec": {
   "display_name": "Python 3",
   "language": "python",
   "name": "python3"
  },
  "language_info": {
   "codemirror_mode": {
    "name": "ipython",
    "version": 3
   },
   "file_extension": ".py",
   "mimetype": "text/x-python",
   "name": "python",
   "nbconvert_exporter": "python",
   "pygments_lexer": "ipython3",
   "version": "3.7.6"
  }
 },
 "nbformat": 4,
 "nbformat_minor": 4
}
