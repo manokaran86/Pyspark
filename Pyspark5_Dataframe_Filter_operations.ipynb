{
 "cells": [
  {
   "cell_type": "markdown",
   "metadata": {},
   "source": [
    "### Pyspark Dataframes\n",
    "- Filter Operations\n",
    "- &,|,==\n",
    "- ~"
   ]
  },
  {
   "cell_type": "code",
   "execution_count": 3,
   "metadata": {},
   "outputs": [
    {
     "name": "stderr",
     "output_type": "stream",
     "text": [
      "/usr/local/lib/python3.7/importlib/_bootstrap.py:219: RuntimeWarning: numpy.ufunc size changed, may indicate binary incompatibility. Expected 192 from C header, got 216 from PyObject\n",
      "  return f(*args, **kwds)\n"
     ]
    }
   ],
   "source": [
    "from pyspark.sql import SparkSession\n",
    "spark_sess = SparkSession.builder.appName('practice_data').getOrCreate()\n",
    "import pandas as pd"
   ]
  },
  {
   "cell_type": "code",
   "execution_count": 21,
   "metadata": {},
   "outputs": [
    {
     "data": {
      "text/html": [
       "<div>\n",
       "<style scoped>\n",
       "    .dataframe tbody tr th:only-of-type {\n",
       "        vertical-align: middle;\n",
       "    }\n",
       "\n",
       "    .dataframe tbody tr th {\n",
       "        vertical-align: top;\n",
       "    }\n",
       "\n",
       "    .dataframe thead th {\n",
       "        text-align: right;\n",
       "    }\n",
       "</style>\n",
       "<table border=\"1\" class=\"dataframe\">\n",
       "  <thead>\n",
       "    <tr style=\"text-align: right;\">\n",
       "      <th></th>\n",
       "      <th>first_name</th>\n",
       "      <th>last_name</th>\n",
       "      <th>company_name</th>\n",
       "      <th>address</th>\n",
       "      <th>city</th>\n",
       "      <th>county</th>\n",
       "      <th>state</th>\n",
       "      <th>zip</th>\n",
       "      <th>phone1</th>\n",
       "      <th>phone2</th>\n",
       "      <th>email</th>\n",
       "      <th>web</th>\n",
       "    </tr>\n",
       "  </thead>\n",
       "  <tbody>\n",
       "    <tr>\n",
       "      <th>0</th>\n",
       "      <td>James</td>\n",
       "      <td>Butt</td>\n",
       "      <td>Benton, John B Jr</td>\n",
       "      <td>6649 N Blue Gum St</td>\n",
       "      <td>New Orleans</td>\n",
       "      <td>Orleans</td>\n",
       "      <td>LA</td>\n",
       "      <td>70116</td>\n",
       "      <td>504-621-8927</td>\n",
       "      <td>504-845-1427</td>\n",
       "      <td>jbutt@gmail.com</td>\n",
       "      <td>http://www.bentonjohnbjr.com</td>\n",
       "    </tr>\n",
       "    <tr>\n",
       "      <th>1</th>\n",
       "      <td>Josephine</td>\n",
       "      <td>Darakjy</td>\n",
       "      <td>Chanay, Jeffrey A Esq</td>\n",
       "      <td>4 B Blue Ridge Blvd</td>\n",
       "      <td>Brighton</td>\n",
       "      <td>Livingston</td>\n",
       "      <td>MI</td>\n",
       "      <td>48116</td>\n",
       "      <td>810-292-9388</td>\n",
       "      <td>810-374-9840</td>\n",
       "      <td>josephine_darakjy@darakjy.org</td>\n",
       "      <td>http://www.chanayjeffreyaesq.com</td>\n",
       "    </tr>\n",
       "    <tr>\n",
       "      <th>2</th>\n",
       "      <td>Art</td>\n",
       "      <td>Venere</td>\n",
       "      <td>Chemel, James L Cpa</td>\n",
       "      <td>8 W Cerritos Ave #54</td>\n",
       "      <td>Bridgeport</td>\n",
       "      <td>Gloucester</td>\n",
       "      <td>NJ</td>\n",
       "      <td>8014</td>\n",
       "      <td>856-636-8749</td>\n",
       "      <td>856-264-4130</td>\n",
       "      <td>art@venere.org</td>\n",
       "      <td>http://www.chemeljameslcpa.com</td>\n",
       "    </tr>\n",
       "    <tr>\n",
       "      <th>3</th>\n",
       "      <td>Lenna</td>\n",
       "      <td>Paprocki</td>\n",
       "      <td>Feltz Printing Service</td>\n",
       "      <td>639 Main St</td>\n",
       "      <td>Anchorage</td>\n",
       "      <td>Anchorage</td>\n",
       "      <td>AK</td>\n",
       "      <td>99501</td>\n",
       "      <td>907-385-4412</td>\n",
       "      <td>907-921-2010</td>\n",
       "      <td>lpaprocki@hotmail.com</td>\n",
       "      <td>http://www.feltzprintingservice.com</td>\n",
       "    </tr>\n",
       "    <tr>\n",
       "      <th>4</th>\n",
       "      <td>Donette</td>\n",
       "      <td>Foller</td>\n",
       "      <td>Printing Dimensions</td>\n",
       "      <td>34 Center St</td>\n",
       "      <td>Hamilton</td>\n",
       "      <td>Butler</td>\n",
       "      <td>OH</td>\n",
       "      <td>45011</td>\n",
       "      <td>513-570-1893</td>\n",
       "      <td>513-549-4561</td>\n",
       "      <td>donette.foller@cox.net</td>\n",
       "      <td>http://www.printingdimensions.com</td>\n",
       "    </tr>\n",
       "    <tr>\n",
       "      <th>5</th>\n",
       "      <td>Simona</td>\n",
       "      <td>Morasca</td>\n",
       "      <td>Chapman, Ross E Esq</td>\n",
       "      <td>3 Mcauley Dr</td>\n",
       "      <td>Ashland</td>\n",
       "      <td>Ashland</td>\n",
       "      <td>OH</td>\n",
       "      <td>44805</td>\n",
       "      <td>419-503-2484</td>\n",
       "      <td>419-800-6759</td>\n",
       "      <td>simona@morasca.com</td>\n",
       "      <td>http://www.chapmanrosseesq.com</td>\n",
       "    </tr>\n",
       "    <tr>\n",
       "      <th>6</th>\n",
       "      <td>Mitsue</td>\n",
       "      <td>Tollner</td>\n",
       "      <td>Morlong Associates</td>\n",
       "      <td>7 Eads St</td>\n",
       "      <td>Chicago</td>\n",
       "      <td>Cook</td>\n",
       "      <td>IL</td>\n",
       "      <td>60632</td>\n",
       "      <td>773-573-6914</td>\n",
       "      <td>773-924-8565</td>\n",
       "      <td>mitsue_tollner@yahoo.com</td>\n",
       "      <td>http://www.morlongassociates.com</td>\n",
       "    </tr>\n",
       "    <tr>\n",
       "      <th>7</th>\n",
       "      <td>Leota</td>\n",
       "      <td>Dilliard</td>\n",
       "      <td>Commercial Press</td>\n",
       "      <td>7 W Jackson Blvd</td>\n",
       "      <td>San Jose</td>\n",
       "      <td>Santa Clara</td>\n",
       "      <td>CA</td>\n",
       "      <td>95111</td>\n",
       "      <td>408-752-3500</td>\n",
       "      <td>408-813-1105</td>\n",
       "      <td>leota@hotmail.com</td>\n",
       "      <td>http://www.commercialpress.com</td>\n",
       "    </tr>\n",
       "    <tr>\n",
       "      <th>8</th>\n",
       "      <td>Sage</td>\n",
       "      <td>Wieser</td>\n",
       "      <td>Truhlar And Truhlar Attys</td>\n",
       "      <td>5 Boston Ave #88</td>\n",
       "      <td>Sioux Falls</td>\n",
       "      <td>Minnehaha</td>\n",
       "      <td>SD</td>\n",
       "      <td>57105</td>\n",
       "      <td>605-414-2147</td>\n",
       "      <td>605-794-4895</td>\n",
       "      <td>sage_wieser@cox.net</td>\n",
       "      <td>http://www.truhlarandtruhlarattys.com</td>\n",
       "    </tr>\n",
       "    <tr>\n",
       "      <th>9</th>\n",
       "      <td>Kris</td>\n",
       "      <td>Marrier</td>\n",
       "      <td>King, Christopher A Esq</td>\n",
       "      <td>228 Runamuck Pl #2808</td>\n",
       "      <td>Baltimore</td>\n",
       "      <td>Baltimore City</td>\n",
       "      <td>MD</td>\n",
       "      <td>21224</td>\n",
       "      <td>410-655-8723</td>\n",
       "      <td>410-804-4694</td>\n",
       "      <td>kris@gmail.com</td>\n",
       "      <td>http://www.kingchristopheraesq.com</td>\n",
       "    </tr>\n",
       "  </tbody>\n",
       "</table>\n",
       "</div>"
      ],
      "text/plain": [
       "  first_name last_name               company_name                address  \\\n",
       "0      James      Butt          Benton, John B Jr     6649 N Blue Gum St   \n",
       "1  Josephine   Darakjy      Chanay, Jeffrey A Esq    4 B Blue Ridge Blvd   \n",
       "2        Art    Venere        Chemel, James L Cpa   8 W Cerritos Ave #54   \n",
       "3      Lenna  Paprocki     Feltz Printing Service            639 Main St   \n",
       "4    Donette    Foller        Printing Dimensions           34 Center St   \n",
       "5     Simona   Morasca        Chapman, Ross E Esq           3 Mcauley Dr   \n",
       "6     Mitsue   Tollner         Morlong Associates              7 Eads St   \n",
       "7      Leota  Dilliard           Commercial Press       7 W Jackson Blvd   \n",
       "8       Sage    Wieser  Truhlar And Truhlar Attys       5 Boston Ave #88   \n",
       "9       Kris   Marrier    King, Christopher A Esq  228 Runamuck Pl #2808   \n",
       "\n",
       "          city          county state    zip        phone1        phone2  \\\n",
       "0  New Orleans         Orleans    LA  70116  504-621-8927  504-845-1427   \n",
       "1     Brighton      Livingston    MI  48116  810-292-9388  810-374-9840   \n",
       "2   Bridgeport      Gloucester    NJ   8014  856-636-8749  856-264-4130   \n",
       "3    Anchorage       Anchorage    AK  99501  907-385-4412  907-921-2010   \n",
       "4     Hamilton          Butler    OH  45011  513-570-1893  513-549-4561   \n",
       "5      Ashland         Ashland    OH  44805  419-503-2484  419-800-6759   \n",
       "6      Chicago            Cook    IL  60632  773-573-6914  773-924-8565   \n",
       "7     San Jose     Santa Clara    CA  95111  408-752-3500  408-813-1105   \n",
       "8  Sioux Falls       Minnehaha    SD  57105  605-414-2147  605-794-4895   \n",
       "9    Baltimore  Baltimore City    MD  21224  410-655-8723  410-804-4694   \n",
       "\n",
       "                           email                                    web  \n",
       "0                jbutt@gmail.com           http://www.bentonjohnbjr.com  \n",
       "1  josephine_darakjy@darakjy.org       http://www.chanayjeffreyaesq.com  \n",
       "2                 art@venere.org         http://www.chemeljameslcpa.com  \n",
       "3          lpaprocki@hotmail.com    http://www.feltzprintingservice.com  \n",
       "4         donette.foller@cox.net      http://www.printingdimensions.com  \n",
       "5             simona@morasca.com         http://www.chapmanrosseesq.com  \n",
       "6       mitsue_tollner@yahoo.com       http://www.morlongassociates.com  \n",
       "7              leota@hotmail.com         http://www.commercialpress.com  \n",
       "8            sage_wieser@cox.net  http://www.truhlarandtruhlarattys.com  \n",
       "9                 kris@gmail.com     http://www.kingchristopheraesq.com  "
      ]
     },
     "execution_count": 21,
     "metadata": {},
     "output_type": "execute_result"
    }
   ],
   "source": [
    "pd_data = pd.read_csv(\"Customer_data.csv\")\n",
    "pd_data.head(10)"
   ]
  },
  {
   "cell_type": "code",
   "execution_count": 16,
   "metadata": {},
   "outputs": [
    {
     "name": "stdout",
     "output_type": "stream",
     "text": [
      "+----------+---------+--------------------+--------------------+-----------+--------------+-----+-----+------------+------------+--------------------+--------------------+\n",
      "|first_name|last_name|        company_name|             address|       city|        county|state|  zip|      phone1|      phone2|               email|                 web|\n",
      "+----------+---------+--------------------+--------------------+-----------+--------------+-----+-----+------------+------------+--------------------+--------------------+\n",
      "|     James|     Butt|   Benton, John B Jr|  6649 N Blue Gum St|New Orleans|       Orleans|   LA|70116|504-621-8927|504-845-1427|     jbutt@gmail.com|http://www.benton...|\n",
      "| Josephine|  Darakjy|Chanay, Jeffrey A...| 4 B Blue Ridge Blvd|   Brighton|    Livingston|   MI|48116|810-292-9388|810-374-9840|josephine_darakjy...|http://www.chanay...|\n",
      "|       Art|   Venere| Chemel, James L Cpa|8 W Cerritos Ave #54| Bridgeport|    Gloucester|   NJ| 8014|856-636-8749|856-264-4130|      art@venere.org|http://www.chemel...|\n",
      "|     Lenna| Paprocki|Feltz Printing Se...|         639 Main St|  Anchorage|     Anchorage|   AK|99501|907-385-4412|907-921-2010|lpaprocki@hotmail...|http://www.feltzp...|\n",
      "|   Donette|   Foller| Printing Dimensions|        34 Center St|   Hamilton|        Butler|   OH|45011|513-570-1893|513-549-4561|donette.foller@co...|http://www.printi...|\n",
      "|    Simona|  Morasca| Chapman, Ross E Esq|        3 Mcauley Dr|    Ashland|       Ashland|   OH|44805|419-503-2484|419-800-6759|  simona@morasca.com|http://www.chapma...|\n",
      "|    Mitsue|  Tollner|  Morlong Associates|           7 Eads St|    Chicago|          Cook|   IL|60632|773-573-6914|773-924-8565|mitsue_tollner@ya...|http://www.morlon...|\n",
      "|     Leota| Dilliard|    Commercial Press|    7 W Jackson Blvd|   San Jose|   Santa Clara|   CA|95111|408-752-3500|408-813-1105|   leota@hotmail.com|http://www.commer...|\n",
      "|      Sage|   Wieser|Truhlar And Truhl...|    5 Boston Ave #88|Sioux Falls|     Minnehaha|   SD|57105|605-414-2147|605-794-4895| sage_wieser@cox.net|http://www.truhla...|\n",
      "|      Kris|  Marrier|King, Christopher...|228 Runamuck Pl #...|  Baltimore|Baltimore City|   MD|21224|410-655-8723|410-804-4694|      kris@gmail.com|http://www.kingch...|\n",
      "+----------+---------+--------------------+--------------------+-----------+--------------+-----+-----+------------+------------+--------------------+--------------------+\n",
      "only showing top 10 rows\n",
      "\n"
     ]
    }
   ],
   "source": [
    "df_cust = spark_sess.read.csv('Customer_data.csv',header=True,inferSchema=True)\n",
    "df_cust.show(10)"
   ]
  },
  {
   "cell_type": "markdown",
   "metadata": {},
   "source": [
    "### Filter Operations"
   ]
  },
  {
   "cell_type": "code",
   "execution_count": 23,
   "metadata": {},
   "outputs": [
    {
     "name": "stdout",
     "output_type": "stream",
     "text": [
      "+----------+---------+--------------------+--------------------+---------+--------------+-----+-----+------------+------------+--------------+--------------------+\n",
      "|first_name|last_name|        company_name|             address|     city|        county|state|  zip|      phone1|      phone2|         email|                 web|\n",
      "+----------+---------+--------------------+--------------------+---------+--------------+-----+-----+------------+------------+--------------+--------------------+\n",
      "|      Kris|  Marrier|King, Christopher...|228 Runamuck Pl #...|Baltimore|Baltimore City|   MD|21224|410-655-8723|410-804-4694|kris@gmail.com|http://www.kingch...|\n",
      "+----------+---------+--------------------+--------------------+---------+--------------+-----+-----+------------+------------+--------------+--------------------+\n",
      "\n"
     ]
    }
   ],
   "source": [
    "df_cust.filter(\"first_name = 'Kris'\").show()"
   ]
  },
  {
   "cell_type": "code",
   "execution_count": 26,
   "metadata": {},
   "outputs": [
    {
     "name": "stdout",
     "output_type": "stream",
     "text": [
      "+----------+---------+--------------------+-----------------+-----+-----+\n",
      "|first_name|last_name|             address|             city|  zip|state|\n",
      "+----------+---------+--------------------+-----------------+-----+-----+\n",
      "|    Mitsue|  Tollner|           7 Eads St|          Chicago|60632|   IL|\n",
      "|  Fletcher|    Flosi| 394 Manchester Blvd|         Rockford|61109|   IL|\n",
      "|      Viva|  Toelkes|      4284 Dorigo Ln|          Chicago|60647|   IL|\n",
      "|       Lai|     Gato|      37 Alabama Ave|         Evanston|60201|   IL|\n",
      "|     Marti|  Maybury|4 Warehouse Point...|          Chicago|60638|   IL|\n",
      "|  Valentin|   Klimek|     137 Pioneer Way|          Chicago|60604|   IL|\n",
      "|  Jennifer|  Fallick|          44 58th St|         Wheeling|60090|   IL|\n",
      "|   Carmela|   Cookey|   9 Murfreesboro Rd|          Chicago|60623|   IL|\n",
      "|     Daron|    Dinos|18 Waterloo Genev...|    Highland Park|60035|   IL|\n",
      "|  Geoffrey|     Acey|       7 West Ave #1|         Palatine|60067|   IL|\n",
      "|    Weldon|    Acuff|    73 W Barstow Ave|Arlington Heights|60004|   IL|\n",
      "|     Erick|   Nievas|      45 E Acacia Ct|          Chicago|60624|   IL|\n",
      "|  Nichelle|   Meteer|    72 Beechwood Ter|          Chicago|60657|   IL|\n",
      "|     Cassi| Wildfong| 26849 Jefferson Hwy|  Rolling Meadows|60008|   IL|\n",
      "|      Joni|  Breland|    35 E Main St #43|Elk Grove Village|60007|   IL|\n",
      "+----------+---------+--------------------+-----------------+-----+-----+\n",
      "\n"
     ]
    }
   ],
   "source": [
    "df_cust.filter(\"state = 'IL'\").select(['first_name','last_name','address','city','zip','state']).show()"
   ]
  },
  {
   "cell_type": "code",
   "execution_count": 39,
   "metadata": {},
   "outputs": [
    {
     "ename": "SyntaxError",
     "evalue": "invalid syntax (<ipython-input-39-093dfade6753>, line 1)",
     "output_type": "error",
     "traceback": [
      "\u001b[0;36m  File \u001b[0;32m\"<ipython-input-39-093dfade6753>\"\u001b[0;36m, line \u001b[0;32m1\u001b[0m\n\u001b[0;31m    df_cust.filter([df_cust['city']='Chicago']).select(['first_name','last_name','address','city','state']).show()\u001b[0m\n\u001b[0m                                   ^\u001b[0m\n\u001b[0;31mSyntaxError\u001b[0m\u001b[0;31m:\u001b[0m invalid syntax\n"
     ]
    }
   ],
   "source": [
    "df_cust.filter([df_cust['city']='Chicago']).select(['first_name','last_name','address','city','state']).show()"
   ]
  },
  {
   "cell_type": "code",
   "execution_count": null,
   "metadata": {},
   "outputs": [],
   "source": []
  }
 ],
 "metadata": {
  "kernelspec": {
   "display_name": "Python 3",
   "language": "python",
   "name": "python3"
  },
  "language_info": {
   "codemirror_mode": {
    "name": "ipython",
    "version": 3
   },
   "file_extension": ".py",
   "mimetype": "text/x-python",
   "name": "python",
   "nbconvert_exporter": "python",
   "pygments_lexer": "ipython3",
   "version": "3.7.6"
  }
 },
 "nbformat": 4,
 "nbformat_minor": 4
}
